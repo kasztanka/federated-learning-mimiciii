{
 "cells": [
  {
   "cell_type": "code",
   "execution_count": null,
   "metadata": {},
   "outputs": [],
   "source": [
    "import math\n",
    "import os\n",
    "import numpy as np\n",
    "from sklearn import metrics\n",
    "from tqdm.notebook import tqdm\n",
    "\n",
    "import torch\n",
    "from torch.nn import BCELoss\n",
    "from torch.optim import RMSprop\n",
    "\n",
    "import syft as sy\n",
    "from syft.federated.floptimizer import Optims\n",
    "\n",
    "from utils import Config, build_model, Metric, Standardizer, EarlyStopping"
   ]
  },
  {
   "cell_type": "code",
   "execution_count": null,
   "metadata": {},
   "outputs": [],
   "source": [
    "hook = sy.TorchHook(torch)"
   ]
  },
  {
   "cell_type": "code",
   "execution_count": null,
   "metadata": {},
   "outputs": [],
   "source": [
    "data_folder = './data/mimic3_17f_24h/'\n",
    "data_filename = os.path.join(data_folder, 'imputed-normed-ep_1_24.npz')\n",
    "folds_filename = os.path.join(data_folder, '5-folds.npz')\n",
    "features_filename = os.path.join(data_folder, 'input.csv')\n",
    "results_folder = './results/mimic3_17f_24h/'"
   ]
  },
  {
   "cell_type": "code",
   "execution_count": null,
   "metadata": {},
   "outputs": [],
   "source": [
    "if not os.path.exists(data_folder):\n",
    "    print(f'Wrong data_folder specified. This folder must exist')\n",
    "    exit(1)\n",
    "\n",
    "if not os.path.exists(results_folder):\n",
    "    os.makedirs(results_folder)"
   ]
  },
  {
   "cell_type": "code",
   "execution_count": null,
   "metadata": {},
   "outputs": [],
   "source": [
    "config = Config()\n",
    "config"
   ]
  },
  {
   "cell_type": "code",
   "execution_count": null,
   "metadata": {},
   "outputs": [],
   "source": [
    "folds_file = np.load(folds_filename, allow_pickle=True)\n",
    "folds = folds_file['folds_ep_mor'][config.label_type][0]\n",
    "\n",
    "data_file = np.load(data_filename, allow_pickle=True)\n",
    "y = data_file['adm_labels_all'][:, config.label_type]\n",
    "y = (y > 0).astype(float)\n",
    "\n",
    "X = np.genfromtxt(features_filename, delimiter=',')"
   ]
  },
  {
   "cell_type": "code",
   "execution_count": null,
   "metadata": {
    "pycharm": {
     "name": "#%%\n"
    }
   },
   "outputs": [],
   "source": [
    "TASK_NAME = 'Mortality'\n",
    "CLF_NAME = 'FederatedFeedForwardNetwork'"
   ]
  },
  {
   "cell_type": "code",
   "execution_count": null,
   "metadata": {
    "pycharm": {
     "name": "#%%\n"
    }
   },
   "outputs": [],
   "source": [
    "metrics = [\n",
    "    Metric('Accuracy', metrics.accuracy_score, use_soft=False),\n",
    "    Metric('Precision', metrics.precision_score, use_soft=False),\n",
    "    Metric('Recall', metrics.recall_score, use_soft=False),\n",
    "    Metric('F1 score', metrics.f1_score, use_soft=False),\n",
    "    Metric('ROC AUC', metrics.roc_auc_score, use_soft=True),\n",
    "    Metric('Average precision', metrics.average_precision_score, use_soft=True),\n",
    "]"
   ]
  },
  {
   "cell_type": "code",
   "execution_count": null,
   "metadata": {},
   "outputs": [],
   "source": [
    "def create_workers(i):\n",
    "    bob = sy.VirtualWorker(hook, id=f\"bob{i}\")\n",
    "    alice = sy.VirtualWorker(hook, id=f\"alice{i}\")\n",
    "    james = sy.VirtualWorker(hook, id=f\"james{i}\")\n",
    "    return [bob, alice, james]"
   ]
  },
  {
   "cell_type": "code",
   "execution_count": null,
   "metadata": {},
   "outputs": [],
   "source": [
    "def distribute_dataset(X, y, train_idx, test_idx, workers):\n",
    "    tensor_X, tensor_y = torch.Tensor(X), torch.Tensor(y).view(-1, 1)\n",
    "\n",
    "    num_train = len(train_idx)\n",
    "    split = int(np.floor(config.validation_split * num_train))\n",
    "    train_idx, valid_idx = train_idx[split:], train_idx[:split]\n",
    "    indices = [train_idx, valid_idx, test_idx]\n",
    "    tags = ['train', 'valid', 'test']\n",
    "    \n",
    "    for idx, tag in zip(indices, tags):\n",
    "        split_X = torch.split(tensor_X[idx], math.ceil(len(tensor_X[idx]) / len(workers)), dim=0)\n",
    "        split_y = torch.split(tensor_y[idx], math.ceil(len(tensor_y[idx]) / len(workers)), dim=0)\n",
    "\n",
    "        for i in range(len(workers)):\n",
    "            tag_X = split_X[i].tag(\"#X\", f\"#{tag}\").describe(\"\")\n",
    "            tag_y = split_y[i].tag(\"#Y\", f\"#{tag}\").describe(\"\")\n",
    "        \n",
    "            tag_X.send(workers[i], garbage_collect_data=False)\n",
    "            tag_y.send(workers[i], garbage_collect_data=False)\n",
    "    \n",
    "    return sy.PrivateGridNetwork(*workers)"
   ]
  },
  {
   "cell_type": "code",
   "execution_count": null,
   "metadata": {},
   "outputs": [],
   "source": [
    "def collect_datasets(grid):\n",
    "    loaders = []\n",
    "    tags = ['train', 'valid', 'test']\n",
    "    for tag in tags:\n",
    "        found_X = grid.search(\"#X\", f\"#{tag}\")\n",
    "        found_y = grid.search(\"#Y\", f\"#{tag}\")\n",
    "    \n",
    "        datasets = []\n",
    "        for worker in found_X.keys():\n",
    "            datasets.append(sy.BaseDataset(found_X[worker][0], found_y[worker][0]))\n",
    "\n",
    "        dataset = sy.FederatedDataset(datasets)\n",
    "        loaders.append(sy.FederatedDataLoader(dataset, batch_size=config.batch_size))\n",
    "    \n",
    "    return loaders"
   ]
  },
  {
   "cell_type": "code",
   "execution_count": null,
   "metadata": {},
   "outputs": [],
   "source": [
    "def train(model, train_loader, valid_loader, workers):\n",
    "    criterion = BCELoss() # binary cross-entropy\n",
    "    # for RMSprop in PySyft each worker needs its own optimizer\n",
    "    worker_ids = [worker.id for worker in workers]\n",
    "    optims = Optims(worker_ids, optim=RMSprop(model.parameters(), lr=config.learning_rate))\n",
    "    early_stopping = EarlyStopping(patience=config.early_stopping_patience)\n",
    "    \n",
    "    for epoch in tqdm(range(config.epochs)):\n",
    "        \n",
    "        model.train()\n",
    "        for data, target in train_loader:\n",
    "            model.send(data.location)\n",
    "            \n",
    "            opt = optims.get_optim(data.location.id)\n",
    "            opt.zero_grad()\n",
    "            \n",
    "            output = model(data)\n",
    "            \n",
    "            loss = criterion(output, target)\n",
    "            loss.backward()\n",
    "\n",
    "            opt.step()\n",
    "            model.get()\n",
    "\n",
    "        model.eval() \n",
    "        valid_losses = []\n",
    "        for data, target in valid_loader:\n",
    "            model.send(data.location)\n",
    "            \n",
    "            output = model(data)\n",
    "            loss = criterion(output, target)\n",
    "            valid_losses.append(loss.get().item())\n",
    "            \n",
    "            model.get()\n",
    "        valid_loss = np.average(valid_losses)\n",
    "        \n",
    "        if early_stopping.should_early_stop(valid_loss, model):\n",
    "            break\n",
    "    \n",
    "    model.load_state_dict(early_stopping.best_model_state)\n",
    "    \n",
    "    return model"
   ]
  },
  {
   "cell_type": "code",
   "execution_count": null,
   "metadata": {},
   "outputs": [],
   "source": [
    "def predict(model, data_loader):\n",
    "    model.eval()\n",
    "    \n",
    "    num_elements = sum([len(data) for data, _ in data_loader])\n",
    "    \n",
    "    predictions = torch.zeros(num_elements)\n",
    "    targets = torch.zeros(num_elements)\n",
    "    \n",
    "    start = 0\n",
    "    for data, target in data_loader:\n",
    "        \n",
    "        target = target.get().view(-1)\n",
    "        end = start + len(target)\n",
    "        \n",
    "        targets[start:end] = target\n",
    "        \n",
    "        model.send(data.location)\n",
    "        with torch.no_grad():\n",
    "            output = model(data)\n",
    "            predictions[start:end] = output.get().view(-1)\n",
    "        model.get()\n",
    "        start = end\n",
    "    return predictions, targets"
   ]
  },
  {
   "cell_type": "code",
   "execution_count": null,
   "metadata": {
    "pycharm": {
     "name": "#%%\n"
    },
    "scrolled": false
   },
   "outputs": [],
   "source": [
    "for i, (train_idx, valid_idx, test_idx) in enumerate(folds):\n",
    "    train_idx = np.concatenate((train_idx, valid_idx))\n",
    "    \n",
    "    standardizer = Standardizer()\n",
    "    standardizer.fit(X[train_idx])\n",
    "    X_transformed = standardizer.transform(X)\n",
    "    \n",
    "    workers = create_workers(i)\n",
    "    \n",
    "    grid = distribute_dataset(X_transformed, y, train_idx, test_idx, workers)\n",
    "    \n",
    "    train_loader, valid_loader, test_loader = collect_datasets(grid)\n",
    "\n",
    "    model = build_model(config, n_features=X_transformed.shape[1])    \n",
    "    model = train(model, train_loader, valid_loader, workers)\n",
    "    \n",
    "    y_soft, y_true = predict(model, test_loader)\n",
    "    y_pred = (y_soft > 0.5).type(torch.int)\n",
    "\n",
    "    for metric in metrics:\n",
    "        if metric.use_soft:\n",
    "            score = metric.function(y_true, y_soft)\n",
    "        else:\n",
    "            score = metric.function(y_true, y_pred)\n",
    "        metric.scores.append(score)\n",
    "    \n",
    "    del train_loader, valid_loader, test_loader, workers, grid"
   ]
  },
  {
   "cell_type": "code",
   "execution_count": null,
   "metadata": {
    "pycharm": {
     "name": "#%%\n"
    }
   },
   "outputs": [],
   "source": [
    "results_filename = os.path.join(results_folder, f'{TASK_NAME}_{CLF_NAME}.txt')"
   ]
  },
  {
   "cell_type": "code",
   "execution_count": null,
   "metadata": {
    "pycharm": {
     "name": "#%%\n"
    }
   },
   "outputs": [],
   "source": [
    "with open(results_filename, 'w') as f:\n",
    "    f.write(f'{TASK_NAME} {CLF_NAME}\\n\\n')\n",
    "    f.write(f'{str(config)}\\n\\n')\n",
    "    for metric in metrics:\n",
    "        mean, std = np.mean(metric.scores), np.std(metric.scores)\n",
    "        print(f'{metric.name}: {mean:.5f} ± {std:.5f}')\n",
    "        f.write(f'{metric.name}: {mean:.5f} ± {std:.5f}\\n')"
   ]
  }
 ],
 "metadata": {
  "kernelspec": {
   "display_name": "Python (PySyft)",
   "language": "python",
   "name": "pysyft"
  },
  "language_info": {
   "codemirror_mode": {
    "name": "ipython",
    "version": 3
   },
   "file_extension": ".py",
   "mimetype": "text/x-python",
   "name": "python",
   "nbconvert_exporter": "python",
   "pygments_lexer": "ipython3",
   "version": "3.7.7"
  },
  "pycharm": {
   "stem_cell": {
    "cell_type": "raw",
    "metadata": {
     "collapsed": false
    },
    "source": []
   }
  }
 },
 "nbformat": 4,
 "nbformat_minor": 4
}
