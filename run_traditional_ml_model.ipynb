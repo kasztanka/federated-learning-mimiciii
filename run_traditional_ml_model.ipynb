{
 "cells": [
  {
   "cell_type": "code",
   "execution_count": null,
   "metadata": {},
   "outputs": [],
   "source": [
    "import os\n",
    "import numpy as np\n",
    "from sklearn import metrics\n",
    "\n",
    "from keras.callbacks import EarlyStopping\n",
    "from tqdm.keras import TqdmCallback\n",
    "\n",
    "from utils import Config, FeedForwardNetwork, Metric, Standardizer"
   ]
  },
  {
   "cell_type": "code",
   "execution_count": null,
   "metadata": {},
   "outputs": [],
   "source": [
    "data_folder = './data/mimic3_17f_24h/'\n",
    "data_filename = os.path.join(data_folder, 'imputed-normed-ep_1_24.npz')\n",
    "folds_filename = os.path.join(data_folder, '5-folds.npz')\n",
    "features_filename = os.path.join(data_folder, 'input.csv')\n",
    "results_folder = './results/mimic3_17f_24h/'"
   ]
  },
  {
   "cell_type": "code",
   "execution_count": null,
   "metadata": {},
   "outputs": [],
   "source": [
    "if not os.path.exists(data_folder):\n",
    "    print(f'Wrong data_folder specified. This folder must exist')\n",
    "    exit(1)\n",
    "\n",
    "if not os.path.exists(results_folder):\n",
    "    os.makedirs(results_folder)"
   ]
  },
  {
   "cell_type": "code",
   "execution_count": null,
   "metadata": {},
   "outputs": [],
   "source": [
    "config = Config()\n",
    "config"
   ]
  },
  {
   "cell_type": "code",
   "execution_count": null,
   "metadata": {},
   "outputs": [],
   "source": [
    "folds_file = np.load(folds_filename, allow_pickle=True)\n",
    "folds = folds_file['folds_ep_mor'][config.label_type][0]\n",
    "\n",
    "data_file = np.load(data_filename, allow_pickle=True)\n",
    "y = data_file['adm_labels_all'][:, config.label_type]\n",
    "y = (y > 0).astype(float)\n",
    "\n",
    "X = np.genfromtxt(features_filename, delimiter=',')"
   ]
  },
  {
   "cell_type": "code",
   "execution_count": null,
   "metadata": {
    "pycharm": {
     "name": "#%%\n"
    }
   },
   "outputs": [],
   "source": [
    "TASK_NAME = 'Mortality'\n",
    "CLF_NAME = 'TraditionalFeedForwardNetwork'"
   ]
  },
  {
   "cell_type": "code",
   "execution_count": null,
   "metadata": {
    "pycharm": {
     "name": "#%%\n"
    }
   },
   "outputs": [],
   "source": [
    "metrics = [\n",
    "    Metric('Accuracy', metrics.accuracy_score, use_soft=False),\n",
    "    Metric('Precision', metrics.precision_score, use_soft=False),\n",
    "    Metric('Recall', metrics.recall_score, use_soft=False),\n",
    "    Metric('F1 score', metrics.f1_score, use_soft=False),\n",
    "    Metric('ROC AUC', metrics.roc_auc_score, use_soft=True),\n",
    "    Metric('Average precision', metrics.average_precision_score, use_soft=True),\n",
    "]"
   ]
  },
  {
   "cell_type": "code",
   "execution_count": null,
   "metadata": {},
   "outputs": [],
   "source": [
    "def build_model(n_features):\n",
    "    clf = FeedForwardNetwork(\n",
    "        n_features=n_features,\n",
    "        final_activation=config.final_activation,\n",
    "        ffn_depth=config.ffn_depth,\n",
    "        batch_normalization=config.batch_normalization\n",
    "        \n",
    "    )\n",
    "    clf.compile(loss=config.loss_func, learning_rate=config.learning_rate)\n",
    "    return clf"
   ]
  },
  {
   "cell_type": "code",
   "execution_count": null,
   "metadata": {
    "pycharm": {
     "name": "#%%\n"
    },
    "scrolled": true
   },
   "outputs": [],
   "source": [
    "for train_idx, valid_idx, test_idx in folds:\n",
    "    train_idx = np.concatenate((train_idx, valid_idx))\n",
    "    \n",
    "    standardizer = Standardizer()\n",
    "    standardizer.fit(X[train_idx])\n",
    "    X_transformed = standardizer.transform(X)\n",
    "\n",
    "    clf = build_model(n_features=X.shape[1])\n",
    "    clf.fit(\n",
    "        X_transformed[train_idx], y[train_idx],\n",
    "        batch_size=config.batch_size, epochs=config.epochs,\n",
    "        callbacks=[\n",
    "            EarlyStopping(patience=config.early_stopping_patience, restore_best_weights=True),\n",
    "            TqdmCallback(verbose=1)\n",
    "        ])\n",
    "    \n",
    "    y_true = y[test_idx]\n",
    "    y_soft = clf.predict(X_transformed[test_idx])\n",
    "    y_pred = clf.predict_classes(X_transformed[test_idx])\n",
    "\n",
    "    for metric in metrics:\n",
    "        if metric.use_soft:\n",
    "            score = metric.function(y_true, y_soft)\n",
    "        else:\n",
    "            score = metric.function(y_true, y_pred)\n",
    "        metric.scores.append(score)"
   ]
  },
  {
   "cell_type": "code",
   "execution_count": null,
   "metadata": {
    "pycharm": {
     "name": "#%%\n"
    }
   },
   "outputs": [],
   "source": [
    "results_filename = os.path.join(results_folder, f'{TASK_NAME}_{CLF_NAME}.txt')"
   ]
  },
  {
   "cell_type": "code",
   "execution_count": null,
   "metadata": {
    "pycharm": {
     "name": "#%%\n"
    }
   },
   "outputs": [],
   "source": [
    "with open(results_filename, 'w') as f:\n",
    "    f.write(f'{TASK_NAME} {CLF_NAME}\\n\\n')\n",
    "    f.write(f'{str(config)}\\n\\n')\n",
    "    for metric in metrics:\n",
    "        mean, std = np.mean(metric.scores), np.std(metric.scores)\n",
    "        print(f'{metric.name}: {mean:.5f} ± {std:.5f}')\n",
    "        f.write(f'{metric.name}: {mean:.5f} ± {std:.5f}\\n')"
   ]
  }
 ],
 "metadata": {
  "kernelspec": {
   "display_name": "Python (PySyft)",
   "language": "python",
   "name": "pysyft"
  },
  "language_info": {
   "codemirror_mode": {
    "name": "ipython",
    "version": 3
   },
   "file_extension": ".py",
   "mimetype": "text/x-python",
   "name": "python",
   "nbconvert_exporter": "python",
   "pygments_lexer": "ipython3",
   "version": "3.7.7"
  },
  "pycharm": {
   "stem_cell": {
    "cell_type": "raw",
    "metadata": {
     "collapsed": false
    },
    "source": []
   }
  }
 },
 "nbformat": 4,
 "nbformat_minor": 4
}
