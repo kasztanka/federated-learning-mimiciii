{
 "cells": [
  {
   "cell_type": "code",
   "execution_count": null,
   "metadata": {},
   "outputs": [],
   "source": [
    "import os\n",
    "import numpy as np\n",
    "from sklearn import metrics\n",
    "from tqdm.notebook import tqdm\n",
    "\n",
    "import torch\n",
    "from torch.nn import BCELoss\n",
    "from torch.optim import RMSprop\n",
    "from torch.utils.data import DataLoader, TensorDataset\n",
    "from torch.utils.data.sampler import SubsetRandomSampler\n",
    "\n",
    "from utils import Config, build_model, Metric, Standardizer, EarlyStopping"
   ]
  },
  {
   "cell_type": "code",
   "execution_count": null,
   "metadata": {},
   "outputs": [],
   "source": [
    "data_folder = './data/mimic3_17f_24h/'\n",
    "data_filename = os.path.join(data_folder, 'imputed-normed-ep_1_24.npz')\n",
    "folds_filename = os.path.join(data_folder, '5-folds.npz')\n",
    "features_filename = os.path.join(data_folder, 'input.csv')\n",
    "results_folder = './results/mimic3_17f_24h/'"
   ]
  },
  {
   "cell_type": "code",
   "execution_count": null,
   "metadata": {},
   "outputs": [],
   "source": [
    "if not os.path.exists(data_folder):\n",
    "    print(f'Wrong data_folder specified. This folder must exist')\n",
    "    exit(1)\n",
    "\n",
    "if not os.path.exists(results_folder):\n",
    "    os.makedirs(results_folder)"
   ]
  },
  {
   "cell_type": "code",
   "execution_count": null,
   "metadata": {},
   "outputs": [],
   "source": [
    "config = Config()\n",
    "config"
   ]
  },
  {
   "cell_type": "code",
   "execution_count": null,
   "metadata": {},
   "outputs": [],
   "source": [
    "folds_file = np.load(folds_filename, allow_pickle=True)\n",
    "folds = folds_file['folds_ep_mor'][config.label_type][0]\n",
    "\n",
    "data_file = np.load(data_filename, allow_pickle=True)\n",
    "y = data_file['adm_labels_all'][:, config.label_type]\n",
    "y = (y > 0).astype(float)\n",
    "\n",
    "X = np.genfromtxt(features_filename, delimiter=',')"
   ]
  },
  {
   "cell_type": "code",
   "execution_count": null,
   "metadata": {
    "pycharm": {
     "name": "#%%\n"
    }
   },
   "outputs": [],
   "source": [
    "TASK_NAME = 'Mortality'\n",
    "CLF_NAME = 'TraditionalFeedForwardNetwork'"
   ]
  },
  {
   "cell_type": "code",
   "execution_count": null,
   "metadata": {
    "pycharm": {
     "name": "#%%\n"
    }
   },
   "outputs": [],
   "source": [
    "metrics = [\n",
    "    Metric('Accuracy', metrics.accuracy_score, use_soft=False),\n",
    "    Metric('Precision', metrics.precision_score, use_soft=False),\n",
    "    Metric('Recall', metrics.recall_score, use_soft=False),\n",
    "    Metric('F1 score', metrics.f1_score, use_soft=False),\n",
    "    Metric('ROC AUC', metrics.roc_auc_score, use_soft=True),\n",
    "    Metric('Average precision', metrics.average_precision_score, use_soft=True),\n",
    "]"
   ]
  },
  {
   "cell_type": "code",
   "execution_count": null,
   "metadata": {},
   "outputs": [],
   "source": [
    "def create_datasets(X, y, train_idx, test_idx):\n",
    "    tensor_X, tensor_y = torch.Tensor(X), torch.Tensor(y).view(-1, 1)\n",
    "    dataset = TensorDataset(tensor_X, tensor_y) \n",
    "\n",
    "    num_train = len(train_idx)\n",
    "    split = int(np.floor(config.validation_split * num_train))\n",
    "    train_idx, valid_idx = train_idx[split:], train_idx[:split]\n",
    "    \n",
    "    train_sampler = SubsetRandomSampler(train_idx)\n",
    "    valid_sampler = SubsetRandomSampler(valid_idx)\n",
    "    test_sampler = SubsetRandomSampler(test_idx)\n",
    "    \n",
    "    train_loader = DataLoader(dataset,\n",
    "                              batch_size=config.batch_size,\n",
    "                              sampler=train_sampler,\n",
    "                              num_workers=0)\n",
    "    \n",
    "    valid_loader = DataLoader(dataset,\n",
    "                              batch_size=config.batch_size,\n",
    "                              sampler=valid_sampler,\n",
    "                              num_workers=0)\n",
    "    \n",
    "    test_loader = DataLoader(dataset,\n",
    "                             batch_size=config.batch_size,\n",
    "                             sampler=test_sampler,\n",
    "                             num_workers=0)\n",
    "    \n",
    "    return train_loader, valid_loader, test_loader"
   ]
  },
  {
   "cell_type": "code",
   "execution_count": null,
   "metadata": {},
   "outputs": [],
   "source": [
    "def train(model, train_loader, valid_loader):\n",
    "    criterion = BCELoss() # binary cross-entropy\n",
    "    optimizer = RMSprop(model.parameters(), lr=config.learning_rate)\n",
    "    early_stopping = EarlyStopping(patience=config.early_stopping_patience)\n",
    "    \n",
    "    for epoch in tqdm(range(config.epochs)):\n",
    "        \n",
    "        model.train()\n",
    "        for data, target in train_loader:\n",
    "            optimizer.zero_grad()\n",
    "            \n",
    "            output = model(data)\n",
    "            \n",
    "            loss = criterion(output, target)\n",
    "            loss.backward()\n",
    "\n",
    "            optimizer.step()\n",
    "\n",
    "        model.eval() \n",
    "        valid_losses = []\n",
    "        for data, target in valid_loader:\n",
    "            output = model(data)\n",
    "            loss = criterion(output, target)\n",
    "            valid_losses.append(loss.item())\n",
    "        valid_loss = np.average(valid_losses)\n",
    "        \n",
    "        if early_stopping.should_early_stop(valid_loss, model):\n",
    "            break\n",
    "    \n",
    "    model.load_state_dict(early_stopping.best_model_state)\n",
    "    \n",
    "    return model"
   ]
  },
  {
   "cell_type": "code",
   "execution_count": null,
   "metadata": {},
   "outputs": [],
   "source": [
    "def predict(model, data_loader):\n",
    "    model.eval()\n",
    "    \n",
    "    num_elements = len(data_loader.sampler)\n",
    "    num_batches = len(data_loader)\n",
    "    \n",
    "    predictions = torch.zeros(num_elements)\n",
    "    targets = torch.zeros(num_elements)\n",
    "    \n",
    "    for i, (data, target) in enumerate(data_loader):\n",
    "        start = i * data_loader.batch_size\n",
    "        end = start + data_loader.batch_size\n",
    "        if i == num_batches - 1:\n",
    "            end = num_elements\n",
    "        \n",
    "        targets[start:end] = target.view(-1)\n",
    "        \n",
    "        with torch.no_grad():\n",
    "            output = model(data)\n",
    "            predictions[start:end] = output.view(-1)\n",
    "    return predictions, targets"
   ]
  },
  {
   "cell_type": "code",
   "execution_count": null,
   "metadata": {
    "pycharm": {
     "name": "#%%\n"
    },
    "scrolled": true
   },
   "outputs": [],
   "source": [
    "for train_idx, valid_idx, test_idx in folds:\n",
    "    train_idx = np.concatenate((train_idx, valid_idx))\n",
    "    \n",
    "    standardizer = Standardizer()\n",
    "    standardizer.fit(X[train_idx])\n",
    "    X_transformed = standardizer.transform(X)\n",
    "\n",
    "    model = build_model(config, n_features=X_transformed.shape[1])\n",
    "    \n",
    "    train_loader, valid_loader, test_loader = create_datasets(X_transformed, y, train_idx, test_idx)\n",
    "    \n",
    "    model = train(model, train_loader, valid_loader)\n",
    "    \n",
    "    y_soft, y_true = predict(model, test_loader)\n",
    "    y_pred = (y_soft > 0.5).type(torch.int)\n",
    "\n",
    "    for metric in metrics:\n",
    "        if metric.use_soft:\n",
    "            score = metric.function(y_true, y_soft)\n",
    "        else:\n",
    "            score = metric.function(y_true, y_pred)\n",
    "        metric.scores.append(score)"
   ]
  },
  {
   "cell_type": "code",
   "execution_count": null,
   "metadata": {
    "pycharm": {
     "name": "#%%\n"
    }
   },
   "outputs": [],
   "source": [
    "results_filename = os.path.join(results_folder, f'{TASK_NAME}_{CLF_NAME}.txt')"
   ]
  },
  {
   "cell_type": "code",
   "execution_count": null,
   "metadata": {
    "pycharm": {
     "name": "#%%\n"
    }
   },
   "outputs": [],
   "source": [
    "with open(results_filename, 'w') as f:\n",
    "    f.write(f'{TASK_NAME} {CLF_NAME}\\n\\n')\n",
    "    f.write(f'{str(config)}\\n\\n')\n",
    "    for metric in metrics:\n",
    "        mean, std = np.mean(metric.scores), np.std(metric.scores)\n",
    "        print(f'{metric.name}: {mean:.5f} ± {std:.5f}')\n",
    "        f.write(f'{metric.name}: {mean:.5f} ± {std:.5f}\\n')"
   ]
  }
 ],
 "metadata": {
  "kernelspec": {
   "display_name": "Python (PySyft)",
   "language": "python",
   "name": "pysyft"
  },
  "language_info": {
   "codemirror_mode": {
    "name": "ipython",
    "version": 3
   },
   "file_extension": ".py",
   "mimetype": "text/x-python",
   "name": "python",
   "nbconvert_exporter": "python",
   "pygments_lexer": "ipython3",
   "version": "3.7.7"
  },
  "pycharm": {
   "stem_cell": {
    "cell_type": "raw",
    "metadata": {
     "collapsed": false
    },
    "source": []
   }
  }
 },
 "nbformat": 4,
 "nbformat_minor": 4
}
